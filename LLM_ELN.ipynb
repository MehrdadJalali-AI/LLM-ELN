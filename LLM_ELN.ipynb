{
  "nbformat": 4,
  "nbformat_minor": 0,
  "metadata": {
    "colab": {
      "provenance": [],
      "authorship_tag": "ABX9TyMK84OPaHTBTfE6mK3UTEAg",
      "include_colab_link": true
    },
    "kernelspec": {
      "name": "python3",
      "display_name": "Python 3"
    },
    "language_info": {
      "name": "python"
    }
  },
  "cells": [
    {
      "cell_type": "markdown",
      "metadata": {
        "id": "view-in-github",
        "colab_type": "text"
      },
      "source": [
        "<a href=\"https://colab.research.google.com/github/MehrdadJalali-KIT/LLM-ELN/blob/main/LLM_ELN.ipynb\" target=\"_parent\"><img src=\"https://colab.research.google.com/assets/colab-badge.svg\" alt=\"Open In Colab\"/></a>"
      ]
    },
    {
      "cell_type": "code",
      "execution_count": null,
      "metadata": {
        "id": "5fCp0eITK5eD"
      },
      "outputs": [],
      "source": [
        "# Mount drive\n",
        "from google.colab import drive\n",
        "import os\n",
        "\n",
        "drive.mount('/content/drive')\n",
        "# Change working path\n",
        "os.chdir('/content/drive/MyDrive/Fairmat/LLM-ELN')"
      ]
    },
    {
      "cell_type": "code",
      "source": [
        "pip install openai==0.28"
      ],
      "metadata": {
        "id": "R-oiGVuwLrg7"
      },
      "execution_count": null,
      "outputs": []
    },
    {
      "cell_type": "code",
      "source": [
        "pip install gradio==3.38.0\n"
      ],
      "metadata": {
        "id": "UitydE1YMara"
      },
      "execution_count": null,
      "outputs": []
    },
    {
      "cell_type": "code",
      "source": [
        "pip install PyPDF2"
      ],
      "metadata": {
        "id": "EHxKJ0MzMSi7"
      },
      "execution_count": null,
      "outputs": []
    },
    {
      "cell_type": "code",
      "source": [
        "import os\n",
        "import PyPDF2\n",
        "import openai\n",
        "import gradio as gr\n",
        "\n",
        "# Replace 'your-api-key' with your actual OpenAI API key\n",
        "openai.api_key = 'ReplaceWithYourAPI'\n",
        "\n",
        "# Define the PDF files directory\n",
        "pdfs_directory = \"Datasets\"\n",
        "\n",
        "# Function to extract text from a PDF file using PyPDF2\n",
        "def extract_text_from_pdf(pdf_file_path):\n",
        "    text = \"\"\n",
        "    with open(pdf_file_path, \"rb\") as pdf_file:\n",
        "        pdf_reader = PyPDF2.PdfReader(pdf_file)\n",
        "        for page in pdf_reader.pages:\n",
        "            page_text = page.extract_text()\n",
        "            if page_text:\n",
        "                text += page_text\n",
        "    return text\n",
        "\n",
        "# Function to generate response using OpenAI API\n",
        "def generate_response(question):\n",
        "    # Iterate through PDF files in the directory\n",
        "    responses = []\n",
        "    for filename in os.listdir(pdfs_directory):\n",
        "        if filename.endswith(\".pdf\"):\n",
        "            pdf_file_path = os.path.join(pdfs_directory, filename)\n",
        "\n",
        "            # Extract text from the PDF file\n",
        "            context = extract_text_from_pdf(pdf_file_path)\n",
        "\n",
        "            # Generate response using OpenAI API\n",
        "            try:\n",
        "                response = openai.ChatCompletion.create(\n",
        "                    model=\"gpt-4-turbo\",\n",
        "                    messages=[\n",
        "                        {\"role\": \"system\", \"content\": \"You are an assistant that answers questions based on the context provided.\"},\n",
        "                        {\"role\": \"user\", \"content\": f\"{question}\\nContext: {context}\"}\n",
        "                    ]\n",
        "                )\n",
        "            except Exception as e:\n",
        "                return f\"An error occurred while processing {filename}: {str(e)}\"\n",
        "\n",
        "            # Append the generated response to the list\n",
        "            generated_response = response['choices'][0]['message']['content'].strip()\n",
        "            responses.append(f\"Generated Response for {filename}: {generated_response}\")\n",
        "            responses.append(\"-\" * 100)  # Add a line of dashes after each response\n",
        "\n",
        "    # Return the list of generated responses\n",
        "    return \"\\n\".join(responses)\n",
        "\n",
        "# Define the Gradio interface\n",
        "title_html = '<div style=\"display: flex; align-items: center; justify-content: center; text-align: center;\">' \\\n",
        "             '<img src=\"https://upload.wikimedia.org/wikipedia/commons/thumb/3/3a/Logo_KIT.svg/800px-Logo_KIT.svg.png?20200302125831\" style=\"max-width: 250px; margin-right: 10px;\">' \\\n",
        "             '<span style=\"color: #2EA28A; font-size: 36px;\">LLN-ELN: Revolutionizing Experiments with Large Language Models!</span>' \\\n",
        "             '<img src=\"https://i.ibb.co/8XMKP9k/My-project-1.png\" style=\"max-width: 200px; margin-left: 10px;\">' \\\n",
        "             '</div>'\n",
        "\n",
        "iface = gr.Interface(\n",
        "    fn=generate_response,\n",
        "    inputs=gr.inputs.Textbox(placeholder=\"Enter your question...\"),\n",
        "    outputs=\"text\",\n",
        "    title=title_html,\n",
        "    description=\"Enter a question and get AI-generated responses from ELN documents. You can also ask for suggestions to optimize or improve the experiment planning.\",\n",
        "    live=False,\n",
        "    examples=[\n",
        "        [\"How long does it take for CO to be absorbed by HKUST-1 at room temperature?\"],\n",
        "        [\"How is HKUST-1 cleaned before testing?\"],\n",
        "        [\"Describe the process for switching from Ar to CO in the experiment.\"],\n",
        "        [\"What are the main findings from the CO adsorption experiment on HKUST-1?\"],\n",
        "        [\"How is residual CO removed from HKUST-1 after testing?\"],\n",
        "        [\"Provide suggestions for optimizing or improving the experiment planning described in the context provided ?\"],\n",
        "        [\"Identify negative sentiments expressed in the text regarding the CO adsorption experiment on HKUST-1 ?\"],\n",
        "        [\"Can the CO adsorption results on HKUST-1 be reproduced under identical conditions?\"]],\n",
        "    allow_screenshot=True,\n",
        "    layout=\"wide\"\n",
        ")\n",
        "\n",
        "# Run the Gradio interface\n",
        "iface.launch()\n"
      ],
      "metadata": {
        "colab": {
          "base_uri": "https://localhost:8080/",
          "height": 913
        },
        "id": "ZYGrLnNnMOlV",
        "outputId": "bbbf6fe9-0fc5-4100-ff2d-f8ebf8bc43c1"
      },
      "execution_count": 7,
      "outputs": [
        {
          "output_type": "stream",
          "name": "stderr",
          "text": [
            "/usr/local/lib/python3.10/dist-packages/gradio_client/documentation.py:103: UserWarning: Could not get documentation group for <class 'gradio.mix.Parallel'>: No known documentation group for module 'gradio.mix'\n",
            "  warnings.warn(f\"Could not get documentation group for {cls}: {exc}\")\n",
            "/usr/local/lib/python3.10/dist-packages/gradio_client/documentation.py:103: UserWarning: Could not get documentation group for <class 'gradio.mix.Series'>: No known documentation group for module 'gradio.mix'\n",
            "  warnings.warn(f\"Could not get documentation group for {cls}: {exc}\")\n",
            "<ipython-input-7-31fdf9f39fec>:63: GradioDeprecationWarning: Usage of gradio.inputs is deprecated, and will not be supported in the future, please import your component from gradio.components\n",
            "  inputs=gr.inputs.Textbox(placeholder=\"Enter your question...\"),\n",
            "<ipython-input-7-31fdf9f39fec>:63: GradioDeprecationWarning: `optional` parameter is deprecated, and it has no effect\n",
            "  inputs=gr.inputs.Textbox(placeholder=\"Enter your question...\"),\n",
            "<ipython-input-7-31fdf9f39fec>:63: GradioDeprecationWarning: `numeric` parameter is deprecated, and it has no effect\n",
            "  inputs=gr.inputs.Textbox(placeholder=\"Enter your question...\"),\n",
            "<ipython-input-7-31fdf9f39fec>:61: GradioDeprecationWarning: `allow_screenshot` parameter is deprecated, and it has no effect\n",
            "  iface = gr.Interface(\n",
            "<ipython-input-7-31fdf9f39fec>:61: GradioDeprecationWarning: `layout` parameter is deprecated, and it has no effect\n",
            "  iface = gr.Interface(\n"
          ]
        },
        {
          "output_type": "stream",
          "name": "stdout",
          "text": [
            "Colab notebook detected. To show errors in colab notebook, set debug=True in launch()\n",
            "Note: opening Chrome Inspector may crash demo inside Colab notebooks.\n",
            "\n",
            "To create a public link, set `share=True` in `launch()`.\n"
          ]
        },
        {
          "output_type": "display_data",
          "data": {
            "text/plain": [
              "<IPython.core.display.Javascript object>"
            ],
            "application/javascript": [
              "(async (port, path, width, height, cache, element) => {\n",
              "                        if (!google.colab.kernel.accessAllowed && !cache) {\n",
              "                            return;\n",
              "                        }\n",
              "                        element.appendChild(document.createTextNode(''));\n",
              "                        const url = await google.colab.kernel.proxyPort(port, {cache});\n",
              "\n",
              "                        const external_link = document.createElement('div');\n",
              "                        external_link.innerHTML = `\n",
              "                            <div style=\"font-family: monospace; margin-bottom: 0.5rem\">\n",
              "                                Running on <a href=${new URL(path, url).toString()} target=\"_blank\">\n",
              "                                    https://localhost:${port}${path}\n",
              "                                </a>\n",
              "                            </div>\n",
              "                        `;\n",
              "                        element.appendChild(external_link);\n",
              "\n",
              "                        const iframe = document.createElement('iframe');\n",
              "                        iframe.src = new URL(path, url).toString();\n",
              "                        iframe.height = height;\n",
              "                        iframe.allow = \"autoplay; camera; microphone; clipboard-read; clipboard-write;\"\n",
              "                        iframe.width = width;\n",
              "                        iframe.style.border = 0;\n",
              "                        element.appendChild(iframe);\n",
              "                    })(7860, \"/\", \"100%\", 500, false, window.element)"
            ]
          },
          "metadata": {}
        },
        {
          "output_type": "stream",
          "name": "stdout",
          "text": [
            "IMPORTANT: You are using gradio version 3.38.0, however version 4.29.0 is available, please upgrade.\n",
            "--------\n"
          ]
        },
        {
          "output_type": "execute_result",
          "data": {
            "text/plain": []
          },
          "metadata": {},
          "execution_count": 7
        }
      ]
    }
  ]
}